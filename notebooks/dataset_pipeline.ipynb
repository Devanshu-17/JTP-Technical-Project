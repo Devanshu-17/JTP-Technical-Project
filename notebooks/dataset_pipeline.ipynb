{
 "cells": [
  {
   "cell_type": "markdown",
   "metadata": {},
   "source": [
    "# Dataset Creation using Spoonacular API\n",
    "\n",
    "This notebook demonstrates how to create a dataset using the Spoonacular API. The dataset contains information about recipes, ingredients, and nutrition. The dataset is created by making API calls to the Spoonacular API and storing the data in a CSV file.\n",
    "\n",
    "The dataset contains the following columns:\n",
    "- Recipe ID\n",
    "- Recipe Name\n",
    "- Recipe Image\n",
    "- Recipe URL\n",
    "- Recipe Instructions\n",
    "- Recipe Ingredients\n",
    "- Recipe Nutrition"
   ]
  },
  {
   "cell_type": "code",
   "execution_count": null,
   "metadata": {},
   "outputs": [],
   "source": [
    "import requests\n",
    "import pandas as pd\n",
    "from dotenv import load_dotenv\n",
    "import os\n",
    "load_dotenv()\n",
    "\n",
    "# Define the base API endpoint and parameters\n",
    "base_url = \"https://api.spoonacular.com/recipes/{ID}/information\"\n",
    "params = {\n",
    "    \"includeNutrition\": \"false\",\n",
    "    \"apiKey\": os.getenv(\"API_KEY\")\n",
    "}\n",
    "\n",
    "# Initialize lists to store data\n",
    "all_data = []\n",
    "\n",
    "# Loop to make 2000 requests\n",
    "for i in range(1, 2001):\n",
    "    # Replace the {ID} placeholder in the URL\n",
    "    url = base_url.format(ID=i)\n",
    "    \n",
    "    # Make the GET request\n",
    "    response = requests.get(url, params=params)\n",
    "    \n",
    "    # Check if the request was successful (status code 200)\n",
    "    if response.status_code == 200:\n",
    "        # Extract relevant data from the JSON response\n",
    "        data = response.json()\n",
    "        \n",
    "        # Extracting names from extendedIngredients\n",
    "        ingredient_names = [ingredient['name'] for ingredient in data['extendedIngredients']]\n",
    "        \n",
    "        # Store the extracted data in a dictionary\n",
    "        recipe_data = {\n",
    "            'id': data['id'],\n",
    "            'title': data['title'],\n",
    "            'image': data['image'],\n",
    "            'calories': data['nutrition']['nutrients'][0]['amount'],\n",
    "            'fat': data['nutrition']['nutrients'][1]['amount'],\n",
    "            'protein': data['nutrition']['nutrients'][8]['amount'],\n",
    "            'instructions': data['instructions'],\n",
    "            'food_type': 'Veg' if data['vegan'] or data['vegetarian'] else 'Non-Veg',\n",
    "            'glutenFree': data['glutenFree'],\n",
    "            'dairyFree': data['dairyFree'],\n",
    "            'sourceUrl': data['sourceUrl'],\n",
    "            'extendedIngredients': ingredient_names\n",
    "        }\n",
    "        \n",
    "        # Append the dictionary to the list\n",
    "        all_data.append(recipe_data)\n",
    "    else:\n",
    "        # Print an error message if the request was not successful\n",
    "        print(f\"Error: {response.status_code} - {response.reason}\")\n",
    "\n",
    "# Create a DataFrame from the collected data\n",
    "df = pd.DataFrame(all_data)"
   ]
  },
  {
   "cell_type": "code",
   "execution_count": null,
   "metadata": {},
   "outputs": [],
   "source": [
    "df_final = pd.read_csv('dataset.csv')"
   ]
  }
 ],
 "metadata": {
  "kernelspec": {
   "display_name": "tensorflow",
   "language": "python",
   "name": "python3"
  },
  "language_info": {
   "name": "python",
   "version": "3.10.10"
  }
 },
 "nbformat": 4,
 "nbformat_minor": 2
}
